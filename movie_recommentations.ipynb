{
  "nbformat": 4,
  "nbformat_minor": 0,
  "metadata": {
    "colab": {
      "name": "Recommender System Sambit, Hasmeet and Parin",
      "provenance": [],
      "collapsed_sections": []
    },
    "kernelspec": {
      "name": "python3",
      "display_name": "Python 3"
    }
  },
  "cells": [
    {
      "cell_type": "markdown",
      "metadata": {
        "id": "VwQKpt7BtidS"
      },
      "source": [
        "               \n",
        "# **Movie Recommender Systems** \n",
        "\n",
        "#Recommender Systems are a part of AI systems that predict and recommend new items. (e.g. YouTube videos, Netflix shows, Amazon products).\n",
        "\n",
        "In this project, we'll use recommender systems to try to find a good movie for our next movie night!\n",
        "\n",
        "Here's what we need to do:\n",
        "\n",
        "* **Step 1:** Get a dataset of movie ratings, and make sure we understand how the dataset is structured.\n",
        "* **Step 2:** Try to get just a non-personalized set of recommendations for Sambit, Parin and Hasmeet, to see if we can find a movie to watch that way.\n",
        "* **Step 3**: Get personalized ratings for Sambit, Parin and Hasmeet, and import them into the system in the correct format.\n",
        "* **Step 4:** Train a User-User collaborative filtering model to provide personalized recommendations based on Sambit's, Parin's and Hasmeet's prior ratings.\n",
        "* **Step 5:** Combine ratings to generate a single ranked recommendation list for our movie night together!\n",
        "\n"
      ]
    },
    {
      "cell_type": "markdown",
      "metadata": {
        "id": "qgF-tyNsvFAs"
      },
      "source": [
        "We'll use an existing dataset published by MovieLens, which contains about 100,000 user ratings for about 10,000 different movies. You can read more about this dataset here: http://files.grouplens.org/datasets/movielens/ml-latest-small-README.html\n",
        "\n",
        "We'll also use the LensKit API to implement our recommender systems algorithms.\n",
        "\n",
        "***STEP 1***\n",
        "\n",
        "**Step 1.1**"
      ]
    },
    {
      "cell_type": "code",
      "metadata": {
        "id": "WDDl3BSpW6yn",
        "colab": {
          "base_uri": "https://localhost:8080/",
          "height": 870
        },
        "outputId": "33919948-ecb4-401b-a261-bb00072cba5a"
      },
      "source": [
        "!pip install lenskit\n",
        "\n",
        "\n",
        "import lenskit.datasets as ds\n",
        "import pandas as pd\n",
        "!git clone https://github.com/crash-course-ai/lab4-recommender-systems.git\n",
        "\n",
        "\n",
        "data = ds.MovieLens('lab4-recommender-systems/')\n",
        "\n",
        "print(\"Successfully installed dataset.\")"
      ],
      "execution_count": null,
      "outputs": [
        {
          "output_type": "stream",
          "text": [
            "Collecting lenskit\n",
            "\u001b[?25l  Downloading https://files.pythonhosted.org/packages/c1/51/9cd302b097f08835884588bc400724f3861bd8eefd73d0229be51b6541f9/lenskit-0.10.1.tar.gz (74kB)\n",
            "\r\u001b[K     |████▍                           | 10kB 18.1MB/s eta 0:00:01\r\u001b[K     |████████▉                       | 20kB 1.7MB/s eta 0:00:01\r\u001b[K     |█████████████▎                  | 30kB 2.3MB/s eta 0:00:01\r\u001b[K     |█████████████████▊              | 40kB 2.5MB/s eta 0:00:01\r\u001b[K     |██████████████████████▏         | 51kB 2.0MB/s eta 0:00:01\r\u001b[K     |██████████████████████████▋     | 61kB 2.3MB/s eta 0:00:01\r\u001b[K     |███████████████████████████████ | 71kB 2.5MB/s eta 0:00:01\r\u001b[K     |████████████████████████████████| 81kB 2.3MB/s \n",
            "\u001b[?25h  Installing build dependencies ... \u001b[?25l\u001b[?25hdone\n",
            "  Getting requirements to build wheel ... \u001b[?25l\u001b[?25hdone\n",
            "  Installing backend dependencies ... \u001b[?25l\u001b[?25hdone\n",
            "    Preparing wheel metadata ... \u001b[?25l\u001b[?25hdone\n",
            "Requirement already satisfied: scipy>=1.2 in /usr/local/lib/python3.6/dist-packages (from lenskit) (1.4.1)\n",
            "Requirement already satisfied: cffi>=1.12.2 in /usr/local/lib/python3.6/dist-packages (from lenskit) (1.14.3)\n",
            "Requirement already satisfied: pandas>=0.24 in /usr/local/lib/python3.6/dist-packages (from lenskit) (1.1.3)\n",
            "Collecting pyarrow>=0.15\n",
            "\u001b[?25l  Downloading https://files.pythonhosted.org/packages/d7/e1/27958a70848f8f7089bff8d6ebe42519daf01f976d28b481e1bfd52c8097/pyarrow-2.0.0-cp36-cp36m-manylinux2014_x86_64.whl (17.7MB)\n",
            "\u001b[K     |████████████████████████████████| 17.7MB 1.3MB/s \n",
            "\u001b[?25hRequirement already satisfied: numpy>=1.16 in /usr/local/lib/python3.6/dist-packages (from lenskit) (1.18.5)\n",
            "Collecting binpickle>=0.3.2\n",
            "  Downloading https://files.pythonhosted.org/packages/94/1e/58f68b9c3c64ec33a37616dc11cba6881f2b33582580049be5b4822afa8c/binpickle-0.3.2-py3-none-any.whl\n",
            "Requirement already satisfied: numba<0.51,>=0.45 in /usr/local/lib/python3.6/dist-packages (from lenskit) (0.48.0)\n",
            "Requirement already satisfied: pycparser in /usr/local/lib/python3.6/dist-packages (from cffi>=1.12.2->lenskit) (2.20)\n",
            "Requirement already satisfied: pytz>=2017.2 in /usr/local/lib/python3.6/dist-packages (from pandas>=0.24->lenskit) (2018.9)\n",
            "Requirement already satisfied: python-dateutil>=2.7.3 in /usr/local/lib/python3.6/dist-packages (from pandas>=0.24->lenskit) (2.8.1)\n",
            "Requirement already satisfied: msgpack>=1.0 in /usr/local/lib/python3.6/dist-packages (from binpickle>=0.3.2->lenskit) (1.0.0)\n",
            "Collecting pickle5; python_version < \"3.8\"\n",
            "\u001b[?25l  Downloading https://files.pythonhosted.org/packages/f7/4c/5c4dd0462c8d3a6bc4af500a6af240763c2ebd1efdc736fc2c946d44b70a/pickle5-0.0.11.tar.gz (132kB)\n",
            "\u001b[K     |████████████████████████████████| 133kB 49.7MB/s \n",
            "\u001b[?25hRequirement already satisfied: setuptools in /usr/local/lib/python3.6/dist-packages (from numba<0.51,>=0.45->lenskit) (50.3.0)\n",
            "Requirement already satisfied: llvmlite<0.32.0,>=0.31.0dev0 in /usr/local/lib/python3.6/dist-packages (from numba<0.51,>=0.45->lenskit) (0.31.0)\n",
            "Requirement already satisfied: six>=1.5 in /usr/local/lib/python3.6/dist-packages (from python-dateutil>=2.7.3->pandas>=0.24->lenskit) (1.15.0)\n",
            "Building wheels for collected packages: lenskit\n",
            "  Building wheel for lenskit (PEP 517) ... \u001b[?25l\u001b[?25hdone\n",
            "  Created wheel for lenskit: filename=lenskit-0.10.1-cp36-none-any.whl size=89226 sha256=9a9a024521e22e8528b70b30d60a6074700a16db2784dd6154d1c39a5209dbd2\n",
            "  Stored in directory: /root/.cache/pip/wheels/f3/3f/2c/6ed3cd2c2057dbe1ed3ed02601b8877033cb65088022e44c85\n",
            "Successfully built lenskit\n",
            "Building wheels for collected packages: pickle5\n",
            "  Building wheel for pickle5 (setup.py) ... \u001b[?25l\u001b[?25hdone\n",
            "  Created wheel for pickle5: filename=pickle5-0.0.11-cp36-cp36m-linux_x86_64.whl size=218621 sha256=d8b3a60daa2ee5c0a0f76edacf3b9e0447e301fdbf66b48faf77b04967afdbc1\n",
            "  Stored in directory: /root/.cache/pip/wheels/a6/90/95/f889ca4aa8b0e0c7f21c8470b6f5d6032f0390a3a141a9a3bd\n",
            "Successfully built pickle5\n",
            "Installing collected packages: pyarrow, pickle5, binpickle, lenskit\n",
            "  Found existing installation: pyarrow 0.14.1\n",
            "    Uninstalling pyarrow-0.14.1:\n",
            "      Successfully uninstalled pyarrow-0.14.1\n",
            "Successfully installed binpickle-0.3.2 lenskit-0.10.1 pickle5-0.0.11 pyarrow-2.0.0\n",
            "Cloning into 'lab4-recommender-systems'...\n",
            "remote: Enumerating objects: 25, done.\u001b[K\n",
            "remote: Counting objects: 100% (25/25), done.\u001b[K\n",
            "remote: Compressing objects: 100% (25/25), done.\u001b[K\n",
            "remote: Total 25 (delta 12), reused 1 (delta 0), pack-reused 0\u001b[K\n",
            "Unpacking objects: 100% (25/25), done.\n",
            "Successfully installed dataset.\n"
          ],
          "name": "stdout"
        }
      ]
    },
    {
      "cell_type": "code",
      "metadata": {
        "id": "SDmubg5QwWch"
      },
      "source": [
        ""
      ],
      "execution_count": null,
      "outputs": []
    },
    {
      "cell_type": "markdown",
      "metadata": {
        "id": "xvdP-32qp30t"
      },
      "source": [
        ""
      ]
    },
    {
      "cell_type": "markdown",
      "metadata": {
        "id": "RcWY6Gogp4R2"
      },
      "source": [
        ""
      ]
    },
    {
      "cell_type": "markdown",
      "metadata": {
        "id": "xr0KflfewGmK"
      },
      "source": [
        "It's important to understand how a dataset is structured and to make sure that the dataset imported correctly.  Let's print out a few rows of the rating data. \n",
        "\n",
        "As you see, MovieLens stores a user's ID number (the first row few rows look like they're all ratings from user 1), the item's ID (in this case each ID is a different movie), the rating the user gave this item, and a time stamp for when the rating was left.\n",
        "\n",
        "**Step 1.2**"
      ]
    },
    {
      "cell_type": "code",
      "metadata": {
        "id": "RDMkG60jwi1e",
        "colab": {
          "base_uri": "https://localhost:8080/",
          "height": 359
        },
        "outputId": "8844c556-d180-4149-acdc-22a6913da537"
      },
      "source": [
        "rows_to_show = 10  # <-- Try changing this number to see more rows of data\n",
        "data.ratings.head(rows_to_show)  # <-- Try changing \"ratings\" to \"movies\", \"tags\", or \"links\" to see the kinds of data that's stored in the other MovieLens files"
      ],
      "execution_count": null,
      "outputs": [
        {
          "output_type": "execute_result",
          "data": {
            "text/html": [
              "<div>\n",
              "<style scoped>\n",
              "    .dataframe tbody tr th:only-of-type {\n",
              "        vertical-align: middle;\n",
              "    }\n",
              "\n",
              "    .dataframe tbody tr th {\n",
              "        vertical-align: top;\n",
              "    }\n",
              "\n",
              "    .dataframe thead th {\n",
              "        text-align: right;\n",
              "    }\n",
              "</style>\n",
              "<table border=\"1\" class=\"dataframe\">\n",
              "  <thead>\n",
              "    <tr style=\"text-align: right;\">\n",
              "      <th></th>\n",
              "      <th>user</th>\n",
              "      <th>item</th>\n",
              "      <th>rating</th>\n",
              "      <th>timestamp</th>\n",
              "    </tr>\n",
              "  </thead>\n",
              "  <tbody>\n",
              "    <tr>\n",
              "      <th>0</th>\n",
              "      <td>1</td>\n",
              "      <td>1</td>\n",
              "      <td>4.0</td>\n",
              "      <td>964982703</td>\n",
              "    </tr>\n",
              "    <tr>\n",
              "      <th>1</th>\n",
              "      <td>1</td>\n",
              "      <td>3</td>\n",
              "      <td>4.0</td>\n",
              "      <td>964981247</td>\n",
              "    </tr>\n",
              "    <tr>\n",
              "      <th>2</th>\n",
              "      <td>1</td>\n",
              "      <td>6</td>\n",
              "      <td>4.0</td>\n",
              "      <td>964982224</td>\n",
              "    </tr>\n",
              "    <tr>\n",
              "      <th>3</th>\n",
              "      <td>1</td>\n",
              "      <td>47</td>\n",
              "      <td>5.0</td>\n",
              "      <td>964983815</td>\n",
              "    </tr>\n",
              "    <tr>\n",
              "      <th>4</th>\n",
              "      <td>1</td>\n",
              "      <td>50</td>\n",
              "      <td>5.0</td>\n",
              "      <td>964982931</td>\n",
              "    </tr>\n",
              "    <tr>\n",
              "      <th>5</th>\n",
              "      <td>1</td>\n",
              "      <td>70</td>\n",
              "      <td>3.0</td>\n",
              "      <td>964982400</td>\n",
              "    </tr>\n",
              "    <tr>\n",
              "      <th>6</th>\n",
              "      <td>1</td>\n",
              "      <td>101</td>\n",
              "      <td>5.0</td>\n",
              "      <td>964980868</td>\n",
              "    </tr>\n",
              "    <tr>\n",
              "      <th>7</th>\n",
              "      <td>1</td>\n",
              "      <td>110</td>\n",
              "      <td>4.0</td>\n",
              "      <td>964982176</td>\n",
              "    </tr>\n",
              "    <tr>\n",
              "      <th>8</th>\n",
              "      <td>1</td>\n",
              "      <td>151</td>\n",
              "      <td>5.0</td>\n",
              "      <td>964984041</td>\n",
              "    </tr>\n",
              "    <tr>\n",
              "      <th>9</th>\n",
              "      <td>1</td>\n",
              "      <td>157</td>\n",
              "      <td>5.0</td>\n",
              "      <td>964984100</td>\n",
              "    </tr>\n",
              "  </tbody>\n",
              "</table>\n",
              "</div>"
            ],
            "text/plain": [
              "   user  item  rating  timestamp\n",
              "0     1     1     4.0  964982703\n",
              "1     1     3     4.0  964981247\n",
              "2     1     6     4.0  964982224\n",
              "3     1    47     5.0  964983815\n",
              "4     1    50     5.0  964982931\n",
              "5     1    70     3.0  964982400\n",
              "6     1   101     5.0  964980868\n",
              "7     1   110     4.0  964982176\n",
              "8     1   151     5.0  964984041\n",
              "9     1   157     5.0  964984100"
            ]
          },
          "metadata": {
            "tags": []
          },
          "execution_count": 3
        }
      ]
    },
    {
      "cell_type": "markdown",
      "metadata": {
        "id": "vInLs2Qpvj2N"
      },
      "source": [
        "A big aspect of recommender system datasets is how they handle missing data. Recommender systems usually have a LOT of missing data, because most users only rate a few movies and most movies only receive ratings from a few users. \n",
        "\n",
        "For example, we can see that user #1 provided rating of 4.0 to the item #1 and that they provided a rating of 4.0 to item #3. But there isn't a rating for item #2 at all, which means that user #1 never rated this item. It's helpful to know that this dataset doesn't store unranked items at all, instead of, for example, storing unranked items as 0 ratings. \n",
        "\n",
        "But here we have another small issue: names like item #1 and item #2 aren't very descriptive, so we can't tell what those movies are. Thankfully, MovieLens also has a data table called \"movies\" that includes information about titles and genres. We can get a more meaningful look at these data by joining the two data files. \n",
        "\n",
        "**Step 1.3**"
      ]
    },
    {
      "cell_type": "code",
      "metadata": {
        "id": "ZdHdpVcs_Uut",
        "colab": {
          "base_uri": "https://localhost:8080/",
          "height": 359
        },
        "outputId": "bae30c9e-62f6-4bbb-d028-b10b93d76ec5"
      },
      "source": [
        "joined_data = data.ratings.join(data.movies['genres'], on='item')\n",
        "joined_data = joined_data.join(data.movies['title'], on='item')\n",
        "joined_data.head(rows_to_show)"
      ],
      "execution_count": null,
      "outputs": [
        {
          "output_type": "execute_result",
          "data": {
            "text/html": [
              "<div>\n",
              "<style scoped>\n",
              "    .dataframe tbody tr th:only-of-type {\n",
              "        vertical-align: middle;\n",
              "    }\n",
              "\n",
              "    .dataframe tbody tr th {\n",
              "        vertical-align: top;\n",
              "    }\n",
              "\n",
              "    .dataframe thead th {\n",
              "        text-align: right;\n",
              "    }\n",
              "</style>\n",
              "<table border=\"1\" class=\"dataframe\">\n",
              "  <thead>\n",
              "    <tr style=\"text-align: right;\">\n",
              "      <th></th>\n",
              "      <th>user</th>\n",
              "      <th>item</th>\n",
              "      <th>rating</th>\n",
              "      <th>timestamp</th>\n",
              "      <th>genres</th>\n",
              "      <th>title</th>\n",
              "    </tr>\n",
              "  </thead>\n",
              "  <tbody>\n",
              "    <tr>\n",
              "      <th>0</th>\n",
              "      <td>1</td>\n",
              "      <td>1</td>\n",
              "      <td>4.0</td>\n",
              "      <td>964982703</td>\n",
              "      <td>Adventure|Animation|Children|Comedy|Fantasy</td>\n",
              "      <td>Toy Story (1995)</td>\n",
              "    </tr>\n",
              "    <tr>\n",
              "      <th>1</th>\n",
              "      <td>1</td>\n",
              "      <td>3</td>\n",
              "      <td>4.0</td>\n",
              "      <td>964981247</td>\n",
              "      <td>Comedy|Romance</td>\n",
              "      <td>Grumpier Old Men (1995)</td>\n",
              "    </tr>\n",
              "    <tr>\n",
              "      <th>2</th>\n",
              "      <td>1</td>\n",
              "      <td>6</td>\n",
              "      <td>4.0</td>\n",
              "      <td>964982224</td>\n",
              "      <td>Action|Crime|Thriller</td>\n",
              "      <td>Heat (1995)</td>\n",
              "    </tr>\n",
              "    <tr>\n",
              "      <th>3</th>\n",
              "      <td>1</td>\n",
              "      <td>47</td>\n",
              "      <td>5.0</td>\n",
              "      <td>964983815</td>\n",
              "      <td>Mystery|Thriller</td>\n",
              "      <td>Seven (a.k.a. Se7en) (1995)</td>\n",
              "    </tr>\n",
              "    <tr>\n",
              "      <th>4</th>\n",
              "      <td>1</td>\n",
              "      <td>50</td>\n",
              "      <td>5.0</td>\n",
              "      <td>964982931</td>\n",
              "      <td>Crime|Mystery|Thriller</td>\n",
              "      <td>Usual Suspects, The (1995)</td>\n",
              "    </tr>\n",
              "    <tr>\n",
              "      <th>5</th>\n",
              "      <td>1</td>\n",
              "      <td>70</td>\n",
              "      <td>3.0</td>\n",
              "      <td>964982400</td>\n",
              "      <td>Action|Comedy|Horror|Thriller</td>\n",
              "      <td>From Dusk Till Dawn (1996)</td>\n",
              "    </tr>\n",
              "    <tr>\n",
              "      <th>6</th>\n",
              "      <td>1</td>\n",
              "      <td>101</td>\n",
              "      <td>5.0</td>\n",
              "      <td>964980868</td>\n",
              "      <td>Adventure|Comedy|Crime|Romance</td>\n",
              "      <td>Bottle Rocket (1996)</td>\n",
              "    </tr>\n",
              "    <tr>\n",
              "      <th>7</th>\n",
              "      <td>1</td>\n",
              "      <td>110</td>\n",
              "      <td>4.0</td>\n",
              "      <td>964982176</td>\n",
              "      <td>Action|Drama|War</td>\n",
              "      <td>Braveheart (1995)</td>\n",
              "    </tr>\n",
              "    <tr>\n",
              "      <th>8</th>\n",
              "      <td>1</td>\n",
              "      <td>151</td>\n",
              "      <td>5.0</td>\n",
              "      <td>964984041</td>\n",
              "      <td>Action|Drama|Romance|War</td>\n",
              "      <td>Rob Roy (1995)</td>\n",
              "    </tr>\n",
              "    <tr>\n",
              "      <th>9</th>\n",
              "      <td>1</td>\n",
              "      <td>157</td>\n",
              "      <td>5.0</td>\n",
              "      <td>964984100</td>\n",
              "      <td>Comedy|War</td>\n",
              "      <td>Canadian Bacon (1995)</td>\n",
              "    </tr>\n",
              "  </tbody>\n",
              "</table>\n",
              "</div>"
            ],
            "text/plain": [
              "   user  ...                        title\n",
              "0     1  ...             Toy Story (1995)\n",
              "1     1  ...      Grumpier Old Men (1995)\n",
              "2     1  ...                  Heat (1995)\n",
              "3     1  ...  Seven (a.k.a. Se7en) (1995)\n",
              "4     1  ...   Usual Suspects, The (1995)\n",
              "5     1  ...   From Dusk Till Dawn (1996)\n",
              "6     1  ...         Bottle Rocket (1996)\n",
              "7     1  ...            Braveheart (1995)\n",
              "8     1  ...               Rob Roy (1995)\n",
              "9     1  ...        Canadian Bacon (1995)\n",
              "\n",
              "[10 rows x 6 columns]"
            ]
          },
          "metadata": {
            "tags": []
          },
          "execution_count": 4
        }
      ]
    },
    {
      "cell_type": "markdown",
      "metadata": {
        "id": "gtzfC8usynQp"
      },
      "source": [
        "***STEP 2***\n",
        "\n",
        "Now that we have ratings, let's create a generic set of recommended movies by looking at the highest rated films. We can average all the ratings by item, sort the list in descending order, and print that top set of recommendations.\n",
        "\n",
        "**Step 2.1**"
      ]
    },
    {
      "cell_type": "code",
      "metadata": {
        "id": "hGm49VPv-6VA",
        "colab": {
          "base_uri": "https://localhost:8080/",
          "height": 407
        },
        "outputId": "d8c43186-d760-4efc-9ebd-f0e99b01a437"
      },
      "source": [
        "average_ratings = (data.ratings).groupby(['item']).mean()\n",
        "sorted_avg_ratings = average_ratings.sort_values(by=\"rating\", ascending=False)\n",
        "joined_data = sorted_avg_ratings.join(data.movies['genres'], on='item')\n",
        "joined_data = joined_data.join(data.movies['title'], on='item')\n",
        "joined_data = joined_data[joined_data.columns[1:]]\n",
        "\n",
        "print(\"RECOMMENDED FOR SAMBIT:\")\n",
        "joined_data.head(rows_to_show)"
      ],
      "execution_count": null,
      "outputs": [
        {
          "output_type": "stream",
          "text": [
            "RECOMMENDED FOR SAMBIT:\n"
          ],
          "name": "stdout"
        },
        {
          "output_type": "execute_result",
          "data": {
            "text/html": [
              "<div>\n",
              "<style scoped>\n",
              "    .dataframe tbody tr th:only-of-type {\n",
              "        vertical-align: middle;\n",
              "    }\n",
              "\n",
              "    .dataframe tbody tr th {\n",
              "        vertical-align: top;\n",
              "    }\n",
              "\n",
              "    .dataframe thead th {\n",
              "        text-align: right;\n",
              "    }\n",
              "</style>\n",
              "<table border=\"1\" class=\"dataframe\">\n",
              "  <thead>\n",
              "    <tr style=\"text-align: right;\">\n",
              "      <th></th>\n",
              "      <th>rating</th>\n",
              "      <th>timestamp</th>\n",
              "      <th>genres</th>\n",
              "      <th>title</th>\n",
              "    </tr>\n",
              "    <tr>\n",
              "      <th>item</th>\n",
              "      <th></th>\n",
              "      <th></th>\n",
              "      <th></th>\n",
              "      <th></th>\n",
              "    </tr>\n",
              "  </thead>\n",
              "  <tbody>\n",
              "    <tr>\n",
              "      <th>88448</th>\n",
              "      <td>5.0</td>\n",
              "      <td>1.315438e+09</td>\n",
              "      <td>Comedy|Drama</td>\n",
              "      <td>Paper Birds (Pájaros de papel) (2010)</td>\n",
              "    </tr>\n",
              "    <tr>\n",
              "      <th>100556</th>\n",
              "      <td>5.0</td>\n",
              "      <td>1.456151e+09</td>\n",
              "      <td>Documentary</td>\n",
              "      <td>Act of Killing, The (2012)</td>\n",
              "    </tr>\n",
              "    <tr>\n",
              "      <th>143031</th>\n",
              "      <td>5.0</td>\n",
              "      <td>1.520409e+09</td>\n",
              "      <td>Comedy|Drama|Romance</td>\n",
              "      <td>Jump In! (2007)</td>\n",
              "    </tr>\n",
              "    <tr>\n",
              "      <th>143511</th>\n",
              "      <td>5.0</td>\n",
              "      <td>1.526207e+09</td>\n",
              "      <td>Documentary</td>\n",
              "      <td>Human (2015)</td>\n",
              "    </tr>\n",
              "    <tr>\n",
              "      <th>143559</th>\n",
              "      <td>5.0</td>\n",
              "      <td>1.520410e+09</td>\n",
              "      <td>Comedy|Crime|Fantasy</td>\n",
              "      <td>L.A. Slasher (2015)</td>\n",
              "    </tr>\n",
              "    <tr>\n",
              "      <th>6201</th>\n",
              "      <td>5.0</td>\n",
              "      <td>1.100120e+09</td>\n",
              "      <td>Drama|Romance</td>\n",
              "      <td>Lady Jane (1986)</td>\n",
              "    </tr>\n",
              "    <tr>\n",
              "      <th>102217</th>\n",
              "      <td>5.0</td>\n",
              "      <td>1.443200e+09</td>\n",
              "      <td>Comedy</td>\n",
              "      <td>Bill Hicks: Revelations (1993)</td>\n",
              "    </tr>\n",
              "    <tr>\n",
              "      <th>102084</th>\n",
              "      <td>5.0</td>\n",
              "      <td>1.493422e+09</td>\n",
              "      <td>Action|Animation|Fantasy</td>\n",
              "      <td>Justice League: Doom (2012)</td>\n",
              "    </tr>\n",
              "    <tr>\n",
              "      <th>6192</th>\n",
              "      <td>5.0</td>\n",
              "      <td>1.063275e+09</td>\n",
              "      <td>Romance</td>\n",
              "      <td>Open Hearts (Elsker dig for evigt) (2002)</td>\n",
              "    </tr>\n",
              "    <tr>\n",
              "      <th>145994</th>\n",
              "      <td>5.0</td>\n",
              "      <td>1.526207e+09</td>\n",
              "      <td>Comedy</td>\n",
              "      <td>Formula of Love (1984)</td>\n",
              "    </tr>\n",
              "  </tbody>\n",
              "</table>\n",
              "</div>"
            ],
            "text/plain": [
              "        rating  ...                                      title\n",
              "item            ...                                           \n",
              "88448      5.0  ...      Paper Birds (Pájaros de papel) (2010)\n",
              "100556     5.0  ...                 Act of Killing, The (2012)\n",
              "143031     5.0  ...                            Jump In! (2007)\n",
              "143511     5.0  ...                               Human (2015)\n",
              "143559     5.0  ...                        L.A. Slasher (2015)\n",
              "6201       5.0  ...                           Lady Jane (1986)\n",
              "102217     5.0  ...             Bill Hicks: Revelations (1993)\n",
              "102084     5.0  ...               Justice League: Doom (2012) \n",
              "6192       5.0  ...  Open Hearts (Elsker dig for evigt) (2002)\n",
              "145994     5.0  ...                     Formula of Love (1984)\n",
              "\n",
              "[10 rows x 4 columns]"
            ]
          },
          "metadata": {
            "tags": []
          },
          "execution_count": 5
        }
      ]
    },
    {
      "cell_type": "markdown",
      "metadata": {
        "id": "nIbDfSCiESbG"
      },
      "source": [
        "That seemed like a good idea, but the results are strange... _Paper Birds_? _Bill Hicks: Revelations_? Those are pretty obscure movies. Let's see what's actually happening here."
      ]
    },
    {
      "cell_type": "code",
      "metadata": {
        "id": "RDg7Y0dQEeMM",
        "colab": {
          "base_uri": "https://localhost:8080/",
          "height": 376
        },
        "outputId": "f0718905-32b5-45eb-8104-01afc948aaab"
      },
      "source": [
        "average_ratings = (data.ratings).groupby('item') \\\n",
        "       .agg(count=('user', 'size'), rating=('rating', 'mean')) \\\n",
        "       .reset_index()\n",
        "\n",
        "sorted_avg_ratings = average_ratings.sort_values(by=\"rating\", ascending=False)\n",
        "joined_data = sorted_avg_ratings.join(data.movies['genres'], on='item')\n",
        "joined_data = joined_data.join(data.movies['title'], on='item')\n",
        "joined_data = joined_data[joined_data.columns[1:]]\n",
        "\n",
        "\n",
        "print(\"RECOMMENDED FOR HASMEET:\")\n",
        "joined_data.head(rows_to_show)"
      ],
      "execution_count": null,
      "outputs": [
        {
          "output_type": "stream",
          "text": [
            "RECOMMENDED FOR HASMEET:\n"
          ],
          "name": "stdout"
        },
        {
          "output_type": "execute_result",
          "data": {
            "text/html": [
              "<div>\n",
              "<style scoped>\n",
              "    .dataframe tbody tr th:only-of-type {\n",
              "        vertical-align: middle;\n",
              "    }\n",
              "\n",
              "    .dataframe tbody tr th {\n",
              "        vertical-align: top;\n",
              "    }\n",
              "\n",
              "    .dataframe thead th {\n",
              "        text-align: right;\n",
              "    }\n",
              "</style>\n",
              "<table border=\"1\" class=\"dataframe\">\n",
              "  <thead>\n",
              "    <tr style=\"text-align: right;\">\n",
              "      <th></th>\n",
              "      <th>count</th>\n",
              "      <th>rating</th>\n",
              "      <th>genres</th>\n",
              "      <th>title</th>\n",
              "    </tr>\n",
              "  </thead>\n",
              "  <tbody>\n",
              "    <tr>\n",
              "      <th>7638</th>\n",
              "      <td>1</td>\n",
              "      <td>5.0</td>\n",
              "      <td>Comedy|Drama</td>\n",
              "      <td>Paper Birds (Pájaros de papel) (2010)</td>\n",
              "    </tr>\n",
              "    <tr>\n",
              "      <th>8089</th>\n",
              "      <td>1</td>\n",
              "      <td>5.0</td>\n",
              "      <td>Documentary</td>\n",
              "      <td>Act of Killing, The (2012)</td>\n",
              "    </tr>\n",
              "    <tr>\n",
              "      <th>9065</th>\n",
              "      <td>1</td>\n",
              "      <td>5.0</td>\n",
              "      <td>Comedy|Drama|Romance</td>\n",
              "      <td>Jump In! (2007)</td>\n",
              "    </tr>\n",
              "    <tr>\n",
              "      <th>9076</th>\n",
              "      <td>1</td>\n",
              "      <td>5.0</td>\n",
              "      <td>Documentary</td>\n",
              "      <td>Human (2015)</td>\n",
              "    </tr>\n",
              "    <tr>\n",
              "      <th>9078</th>\n",
              "      <td>1</td>\n",
              "      <td>5.0</td>\n",
              "      <td>Comedy|Crime|Fantasy</td>\n",
              "      <td>L.A. Slasher (2015)</td>\n",
              "    </tr>\n",
              "    <tr>\n",
              "      <th>4245</th>\n",
              "      <td>1</td>\n",
              "      <td>5.0</td>\n",
              "      <td>Drama|Romance</td>\n",
              "      <td>Lady Jane (1986)</td>\n",
              "    </tr>\n",
              "    <tr>\n",
              "      <th>8136</th>\n",
              "      <td>1</td>\n",
              "      <td>5.0</td>\n",
              "      <td>Comedy</td>\n",
              "      <td>Bill Hicks: Revelations (1993)</td>\n",
              "    </tr>\n",
              "    <tr>\n",
              "      <th>8130</th>\n",
              "      <td>1</td>\n",
              "      <td>5.0</td>\n",
              "      <td>Action|Animation|Fantasy</td>\n",
              "      <td>Justice League: Doom (2012)</td>\n",
              "    </tr>\n",
              "    <tr>\n",
              "      <th>4240</th>\n",
              "      <td>1</td>\n",
              "      <td>5.0</td>\n",
              "      <td>Romance</td>\n",
              "      <td>Open Hearts (Elsker dig for evigt) (2002)</td>\n",
              "    </tr>\n",
              "    <tr>\n",
              "      <th>9104</th>\n",
              "      <td>1</td>\n",
              "      <td>5.0</td>\n",
              "      <td>Comedy</td>\n",
              "      <td>Formula of Love (1984)</td>\n",
              "    </tr>\n",
              "  </tbody>\n",
              "</table>\n",
              "</div>"
            ],
            "text/plain": [
              "      count  ...                                      title\n",
              "7638      1  ...      Paper Birds (Pájaros de papel) (2010)\n",
              "8089      1  ...                 Act of Killing, The (2012)\n",
              "9065      1  ...                            Jump In! (2007)\n",
              "9076      1  ...                               Human (2015)\n",
              "9078      1  ...                        L.A. Slasher (2015)\n",
              "4245      1  ...                           Lady Jane (1986)\n",
              "8136      1  ...             Bill Hicks: Revelations (1993)\n",
              "8130      1  ...               Justice League: Doom (2012) \n",
              "4240      1  ...  Open Hearts (Elsker dig for evigt) (2002)\n",
              "9104      1  ...                     Formula of Love (1984)\n",
              "\n",
              "[10 rows x 4 columns]"
            ]
          },
          "metadata": {
            "tags": []
          },
          "execution_count": 6
        }
      ]
    },
    {
      "cell_type": "markdown",
      "metadata": {
        "id": "A8W9h1xIzLRB"
      },
      "source": [
        "Adding the \"count\" column, we can see that each of these movies was given a perfect 5.0 rating but by just ONE person. They might be good movies, but we can't be very confident in these recommendations.\n",
        "\n",
        "To improve this list, we should try only including movies in this recommendation list if they have more than a certain number of ratings, so we can be more confident that each movie is generally good. Let's start with movies that 20 or more people rated.\n",
        "\n",
        "**Step 2.2**"
      ]
    },
    {
      "cell_type": "code",
      "metadata": {
        "id": "0LTDrKYWAwP1",
        "colab": {
          "base_uri": "https://localhost:8080/",
          "height": 407
        },
        "outputId": "7914f11b-6aa6-416f-f751-bd7dd86ae4ce"
      },
      "source": [
        "minimum_to_include = 20 #<-- You can try changing this minimum to include movies rated by fewer or more people\n",
        "\n",
        "average_ratings = (data.ratings).groupby(['item']).mean()\n",
        "rating_counts = (data.ratings).groupby(['item']).count()\n",
        "average_ratings = average_ratings.loc[rating_counts['rating'] > minimum_to_include]\n",
        "sorted_avg_ratings = average_ratings.sort_values(by=\"rating\", ascending=False)\n",
        "joined_data = sorted_avg_ratings.join(data.movies['genres'], on='item')\n",
        "joined_data = joined_data.join(data.movies['title'], on='item')\n",
        "joined_data = joined_data[joined_data.columns[3:]]\n",
        "\n",
        "print(\"RECOMMENDED FOR PARIN:\")\n",
        "joined_data.head(rows_to_show)"
      ],
      "execution_count": null,
      "outputs": [
        {
          "output_type": "stream",
          "text": [
            "RECOMMENDED FOR PARIN:\n"
          ],
          "name": "stdout"
        },
        {
          "output_type": "execute_result",
          "data": {
            "text/html": [
              "<div>\n",
              "<style scoped>\n",
              "    .dataframe tbody tr th:only-of-type {\n",
              "        vertical-align: middle;\n",
              "    }\n",
              "\n",
              "    .dataframe tbody tr th {\n",
              "        vertical-align: top;\n",
              "    }\n",
              "\n",
              "    .dataframe thead th {\n",
              "        text-align: right;\n",
              "    }\n",
              "</style>\n",
              "<table border=\"1\" class=\"dataframe\">\n",
              "  <thead>\n",
              "    <tr style=\"text-align: right;\">\n",
              "      <th></th>\n",
              "      <th>genres</th>\n",
              "      <th>title</th>\n",
              "    </tr>\n",
              "    <tr>\n",
              "      <th>item</th>\n",
              "      <th></th>\n",
              "      <th></th>\n",
              "    </tr>\n",
              "  </thead>\n",
              "  <tbody>\n",
              "    <tr>\n",
              "      <th>318</th>\n",
              "      <td>Crime|Drama</td>\n",
              "      <td>Shawshank Redemption, The (1994)</td>\n",
              "    </tr>\n",
              "    <tr>\n",
              "      <th>922</th>\n",
              "      <td>Drama|Film-Noir|Romance</td>\n",
              "      <td>Sunset Blvd. (a.k.a. Sunset Boulevard) (1950)</td>\n",
              "    </tr>\n",
              "    <tr>\n",
              "      <th>898</th>\n",
              "      <td>Comedy|Drama|Romance</td>\n",
              "      <td>Philadelphia Story, The (1940)</td>\n",
              "    </tr>\n",
              "    <tr>\n",
              "      <th>475</th>\n",
              "      <td>Drama</td>\n",
              "      <td>In the Name of the Father (1993)</td>\n",
              "    </tr>\n",
              "    <tr>\n",
              "      <th>1204</th>\n",
              "      <td>Adventure|Drama|War</td>\n",
              "      <td>Lawrence of Arabia (1962)</td>\n",
              "    </tr>\n",
              "    <tr>\n",
              "      <th>246</th>\n",
              "      <td>Documentary</td>\n",
              "      <td>Hoop Dreams (1994)</td>\n",
              "    </tr>\n",
              "    <tr>\n",
              "      <th>858</th>\n",
              "      <td>Crime|Drama</td>\n",
              "      <td>Godfather, The (1972)</td>\n",
              "    </tr>\n",
              "    <tr>\n",
              "      <th>1235</th>\n",
              "      <td>Comedy|Drama|Romance</td>\n",
              "      <td>Harold and Maude (1971)</td>\n",
              "    </tr>\n",
              "    <tr>\n",
              "      <th>168252</th>\n",
              "      <td>Action|Sci-Fi</td>\n",
              "      <td>Logan (2017)</td>\n",
              "    </tr>\n",
              "    <tr>\n",
              "      <th>2959</th>\n",
              "      <td>Action|Crime|Drama|Thriller</td>\n",
              "      <td>Fight Club (1999)</td>\n",
              "    </tr>\n",
              "  </tbody>\n",
              "</table>\n",
              "</div>"
            ],
            "text/plain": [
              "                             genres                                          title\n",
              "item                                                                              \n",
              "318                     Crime|Drama               Shawshank Redemption, The (1994)\n",
              "922         Drama|Film-Noir|Romance  Sunset Blvd. (a.k.a. Sunset Boulevard) (1950)\n",
              "898            Comedy|Drama|Romance                 Philadelphia Story, The (1940)\n",
              "475                           Drama               In the Name of the Father (1993)\n",
              "1204            Adventure|Drama|War                      Lawrence of Arabia (1962)\n",
              "246                     Documentary                             Hoop Dreams (1994)\n",
              "858                     Crime|Drama                          Godfather, The (1972)\n",
              "1235           Comedy|Drama|Romance                        Harold and Maude (1971)\n",
              "168252                Action|Sci-Fi                                   Logan (2017)\n",
              "2959    Action|Crime|Drama|Thriller                              Fight Club (1999)"
            ]
          },
          "metadata": {
            "tags": []
          },
          "execution_count": 7
        }
      ]
    },
    {
      "cell_type": "markdown",
      "metadata": {
        "id": "k2x1SVa38RhJ"
      },
      "source": [
        "These movies are more commonly known and we can trust that they're more popularly recommended. But these movies span a bunch of genres.\n",
        "\n",
        "Let's try to get a list of recommendations from Hasmeet's and my favorite genres. I like Action movies and he prefers Romance movies. So in addition to filtering by the number of ratings, let's also filter by a particular genre. We'll run the recommendations for an action movie fan, then for a romance movie fan.\n",
        "\n",
        "**Step 2.3**"
      ]
    },
    {
      "cell_type": "code",
      "metadata": {
        "id": "kU97FBThZn3B",
        "colab": {
          "base_uri": "https://localhost:8080/",
          "height": 407
        },
        "outputId": "200caa3d-43b4-48fe-f68e-a9690a76c63e"
      },
      "source": [
        "average_ratings = (data.ratings).groupby(['item']).mean()\n",
        "rating_counts = (data.ratings).groupby(['item']).count()\n",
        "average_ratings = average_ratings.loc[rating_counts['rating'] > minimum_to_include]\n",
        "average_ratings = average_ratings.join(data.movies['genres'], on='item')\n",
        "average_ratings = average_ratings.loc[average_ratings['genres'].str.contains('Sci-Fi')]\n",
        "\n",
        "sorted_avg_ratings = average_ratings.sort_values(by=\"rating\", ascending=False)\n",
        "joined_data = sorted_avg_ratings.join(data.movies['title'], on='item')\n",
        "joined_data = joined_data[joined_data.columns[3:]]\n",
        "print(\"RECOMMENDED FOR AN ACTION MOVIE FAN:\")\n",
        "joined_data.head(rows_to_show)"
      ],
      "execution_count": null,
      "outputs": [
        {
          "output_type": "stream",
          "text": [
            "RECOMMENDED FOR AN ACTION MOVIE FAN:\n"
          ],
          "name": "stdout"
        },
        {
          "output_type": "execute_result",
          "data": {
            "text/html": [
              "<div>\n",
              "<style scoped>\n",
              "    .dataframe tbody tr th:only-of-type {\n",
              "        vertical-align: middle;\n",
              "    }\n",
              "\n",
              "    .dataframe tbody tr th {\n",
              "        vertical-align: top;\n",
              "    }\n",
              "\n",
              "    .dataframe thead th {\n",
              "        text-align: right;\n",
              "    }\n",
              "</style>\n",
              "<table border=\"1\" class=\"dataframe\">\n",
              "  <thead>\n",
              "    <tr style=\"text-align: right;\">\n",
              "      <th></th>\n",
              "      <th>genres</th>\n",
              "      <th>title</th>\n",
              "    </tr>\n",
              "    <tr>\n",
              "      <th>item</th>\n",
              "      <th></th>\n",
              "      <th></th>\n",
              "    </tr>\n",
              "  </thead>\n",
              "  <tbody>\n",
              "    <tr>\n",
              "      <th>168252</th>\n",
              "      <td>Action|Sci-Fi</td>\n",
              "      <td>Logan (2017)</td>\n",
              "    </tr>\n",
              "    <tr>\n",
              "      <th>260</th>\n",
              "      <td>Action|Adventure|Sci-Fi</td>\n",
              "      <td>Star Wars: Episode IV - A New Hope (1977)</td>\n",
              "    </tr>\n",
              "    <tr>\n",
              "      <th>1196</th>\n",
              "      <td>Action|Adventure|Sci-Fi</td>\n",
              "      <td>Star Wars: Episode V - The Empire Strikes Back...</td>\n",
              "    </tr>\n",
              "    <tr>\n",
              "      <th>2571</th>\n",
              "      <td>Action|Sci-Fi|Thriller</td>\n",
              "      <td>Matrix, The (1999)</td>\n",
              "    </tr>\n",
              "    <tr>\n",
              "      <th>1199</th>\n",
              "      <td>Fantasy|Sci-Fi</td>\n",
              "      <td>Brazil (1985)</td>\n",
              "    </tr>\n",
              "    <tr>\n",
              "      <th>7361</th>\n",
              "      <td>Drama|Romance|Sci-Fi</td>\n",
              "      <td>Eternal Sunshine of the Spotless Mind (2004)</td>\n",
              "    </tr>\n",
              "    <tr>\n",
              "      <th>741</th>\n",
              "      <td>Animation|Sci-Fi</td>\n",
              "      <td>Ghost in the Shell (Kôkaku kidôtai) (1995)</td>\n",
              "    </tr>\n",
              "    <tr>\n",
              "      <th>1210</th>\n",
              "      <td>Action|Adventure|Sci-Fi</td>\n",
              "      <td>Star Wars: Episode VI - Return of the Jedi (1983)</td>\n",
              "    </tr>\n",
              "    <tr>\n",
              "      <th>541</th>\n",
              "      <td>Action|Sci-Fi|Thriller</td>\n",
              "      <td>Blade Runner (1982)</td>\n",
              "    </tr>\n",
              "    <tr>\n",
              "      <th>1223</th>\n",
              "      <td>Adventure|Animation|Children|Comedy|Sci-Fi</td>\n",
              "      <td>Grand Day Out with Wallace and Gromit, A (1989)</td>\n",
              "    </tr>\n",
              "  </tbody>\n",
              "</table>\n",
              "</div>"
            ],
            "text/plain": [
              "                                            genres                                              title\n",
              "item                                                                                                 \n",
              "168252                               Action|Sci-Fi                                       Logan (2017)\n",
              "260                        Action|Adventure|Sci-Fi          Star Wars: Episode IV - A New Hope (1977)\n",
              "1196                       Action|Adventure|Sci-Fi  Star Wars: Episode V - The Empire Strikes Back...\n",
              "2571                        Action|Sci-Fi|Thriller                                 Matrix, The (1999)\n",
              "1199                                Fantasy|Sci-Fi                                      Brazil (1985)\n",
              "7361                          Drama|Romance|Sci-Fi       Eternal Sunshine of the Spotless Mind (2004)\n",
              "741                               Animation|Sci-Fi         Ghost in the Shell (Kôkaku kidôtai) (1995)\n",
              "1210                       Action|Adventure|Sci-Fi  Star Wars: Episode VI - Return of the Jedi (1983)\n",
              "541                         Action|Sci-Fi|Thriller                                Blade Runner (1982)\n",
              "1223    Adventure|Animation|Children|Comedy|Sci-Fi    Grand Day Out with Wallace and Gromit, A (1989)"
            ]
          },
          "metadata": {
            "tags": []
          },
          "execution_count": 8
        }
      ]
    },
    {
      "cell_type": "code",
      "metadata": {
        "id": "zLE4QrmZmHz4",
        "colab": {
          "base_uri": "https://localhost:8080/",
          "height": 407
        },
        "outputId": "cf514be2-dffe-4a1b-bb9b-7a7d68529967"
      },
      "source": [
        "average_ratings = (data.ratings).groupby(['item']).mean()\n",
        "rating_counts = (data.ratings).groupby(['item']).count()\n",
        "average_ratings = average_ratings.loc[rating_counts['rating'] > minimum_to_include]\n",
        "average_ratings = average_ratings.join(data.movies['genres'], on='item')\n",
        "average_ratings = average_ratings.loc[average_ratings['genres'].str.contains('Animation')]\n",
        "\n",
        "sorted_avg_ratings = average_ratings.sort_values(by=\"rating\", ascending=False)\n",
        "joined_data = sorted_avg_ratings.join(data.movies['title'], on='item')\n",
        "joined_data = joined_data[joined_data.columns[3:]]\n",
        "print(\"RECOMMENDED FOR A ANIMATED MOVIE FAN:\")\n",
        "joined_data.head(rows_to_show)"
      ],
      "execution_count": null,
      "outputs": [
        {
          "output_type": "stream",
          "text": [
            "RECOMMENDED FOR A ANIMATED MOVIE FAN:\n"
          ],
          "name": "stdout"
        },
        {
          "output_type": "execute_result",
          "data": {
            "text/html": [
              "<div>\n",
              "<style scoped>\n",
              "    .dataframe tbody tr th:only-of-type {\n",
              "        vertical-align: middle;\n",
              "    }\n",
              "\n",
              "    .dataframe tbody tr th {\n",
              "        vertical-align: top;\n",
              "    }\n",
              "\n",
              "    .dataframe thead th {\n",
              "        text-align: right;\n",
              "    }\n",
              "</style>\n",
              "<table border=\"1\" class=\"dataframe\">\n",
              "  <thead>\n",
              "    <tr style=\"text-align: right;\">\n",
              "      <th></th>\n",
              "      <th>genres</th>\n",
              "      <th>title</th>\n",
              "    </tr>\n",
              "    <tr>\n",
              "      <th>item</th>\n",
              "      <th></th>\n",
              "      <th></th>\n",
              "    </tr>\n",
              "  </thead>\n",
              "  <tbody>\n",
              "    <tr>\n",
              "      <th>5618</th>\n",
              "      <td>Adventure|Animation|Fantasy</td>\n",
              "      <td>Spirited Away (Sen to Chihiro no kamikakushi) ...</td>\n",
              "    </tr>\n",
              "    <tr>\n",
              "      <th>741</th>\n",
              "      <td>Animation|Sci-Fi</td>\n",
              "      <td>Ghost in the Shell (Kôkaku kidôtai) (1995)</td>\n",
              "    </tr>\n",
              "    <tr>\n",
              "      <th>78499</th>\n",
              "      <td>Adventure|Animation|Children|Comedy|Fantasy|IMAX</td>\n",
              "      <td>Toy Story 3 (2010)</td>\n",
              "    </tr>\n",
              "    <tr>\n",
              "      <th>720</th>\n",
              "      <td>Adventure|Animation|Comedy</td>\n",
              "      <td>Wallace &amp; Gromit: The Best of Aardman Animatio...</td>\n",
              "    </tr>\n",
              "    <tr>\n",
              "      <th>1223</th>\n",
              "      <td>Adventure|Animation|Children|Comedy|Sci-Fi</td>\n",
              "      <td>Grand Day Out with Wallace and Gromit, A (1989)</td>\n",
              "    </tr>\n",
              "    <tr>\n",
              "      <th>31658</th>\n",
              "      <td>Adventure|Animation|Fantasy|Romance</td>\n",
              "      <td>Howl's Moving Castle (Hauru no ugoku shiro) (2...</td>\n",
              "    </tr>\n",
              "    <tr>\n",
              "      <th>6350</th>\n",
              "      <td>Action|Adventure|Animation|Children|Fantasy|Sc...</td>\n",
              "      <td>Laputa: Castle in the Sky (Tenkû no shiro Rapy...</td>\n",
              "    </tr>\n",
              "    <tr>\n",
              "      <th>60069</th>\n",
              "      <td>Adventure|Animation|Children|Romance|Sci-Fi</td>\n",
              "      <td>WALL·E (2008)</td>\n",
              "    </tr>\n",
              "    <tr>\n",
              "      <th>2761</th>\n",
              "      <td>Adventure|Animation|Children|Drama|Sci-Fi</td>\n",
              "      <td>Iron Giant, The (1999)</td>\n",
              "    </tr>\n",
              "    <tr>\n",
              "      <th>1148</th>\n",
              "      <td>Animation|Children|Comedy|Crime</td>\n",
              "      <td>Wallace &amp; Gromit: The Wrong Trousers (1993)</td>\n",
              "    </tr>\n",
              "  </tbody>\n",
              "</table>\n",
              "</div>"
            ],
            "text/plain": [
              "                                                  genres                                              title\n",
              "item                                                                                                       \n",
              "5618                         Adventure|Animation|Fantasy  Spirited Away (Sen to Chihiro no kamikakushi) ...\n",
              "741                                     Animation|Sci-Fi         Ghost in the Shell (Kôkaku kidôtai) (1995)\n",
              "78499   Adventure|Animation|Children|Comedy|Fantasy|IMAX                                 Toy Story 3 (2010)\n",
              "720                           Adventure|Animation|Comedy  Wallace & Gromit: The Best of Aardman Animatio...\n",
              "1223          Adventure|Animation|Children|Comedy|Sci-Fi    Grand Day Out with Wallace and Gromit, A (1989)\n",
              "31658                Adventure|Animation|Fantasy|Romance  Howl's Moving Castle (Hauru no ugoku shiro) (2...\n",
              "6350   Action|Adventure|Animation|Children|Fantasy|Sc...  Laputa: Castle in the Sky (Tenkû no shiro Rapy...\n",
              "60069        Adventure|Animation|Children|Romance|Sci-Fi                                      WALL·E (2008)\n",
              "2761           Adventure|Animation|Children|Drama|Sci-Fi                             Iron Giant, The (1999)\n",
              "1148                     Animation|Children|Comedy|Crime        Wallace & Gromit: The Wrong Trousers (1993)"
            ]
          },
          "metadata": {
            "tags": []
          },
          "execution_count": 9
        }
      ]
    },
    {
      "cell_type": "markdown",
      "metadata": {
        "id": "em-XbUsP9WfX"
      },
      "source": [
        "There's actually one movie that's on both of these lists: _The Princess Bride_. But Parin doesn't want to rewatch.\n",
        "\n",
        "So, while Step 2 produced some generic recommendations, our AI hasn't given us a new movie we want to watch together."
      ]
    },
    {
      "cell_type": "markdown",
      "metadata": {
        "id": "ETrwA7hW-NhV"
      },
      "source": [
        "***STEP 3***\n",
        "\n",
        "Step 3 is personalizing our recommender system AI. Parin and Hasmeet each need to provide our own movie ratings as data, so we filled out simple spreadsheets. We've uploaded these spreadsheets to GitHub.\n",
        "\n",
        "But, we need to provide these personalized ratings in the correct format. By looking at the documentation for LensKit (https://lkpy.lenskit.org/en/stable/interfaces.html#lenskit.algorithms.Recommender.recommend), we know that we need to provide a dictionary of item-rating pairs for each person. This means that we need to import the two spreadsheets from GitHub and format the data in a way that will make sense to our AI: two dictionaries.\n",
        "\n",
        "To test that it worked, let's also print both our ratings for _The Princess Bride_, since we know that's a movie we both watched.\n",
        "\n",
        "**Step 3.1**"
      ]
    },
    {
      "cell_type": "code",
      "metadata": {
        "id": "eM3cgXCMbVqs",
        "colab": {
          "base_uri": "https://localhost:8080/",
          "height": 85
        },
        "outputId": "48239d76-5650-4f44-caf4-eda540f7e2a0"
      },
      "source": [
        "import csv\n",
        "\n",
        "jabril_rating_dict = {}\n",
        "jgb_rating_dict = {}\n",
        "\n",
        "with open(\"/content/lab4-recommender-systems/jabril-movie-ratings.csv\", newline='') as csvfile:\n",
        "  ratings_reader = csv.DictReader(csvfile)\n",
        "  for row in ratings_reader:\n",
        "    if ((row['ratings'] != \"\") and (float(row['ratings']) > 0) and (float(row['ratings']) < 6)):\n",
        "      jabril_rating_dict.update({int(row['item']): float(row['ratings'])})\n",
        "      \n",
        "with open(\"/content/lab4-recommender-systems/jgb-movie-ratings.csv\", newline='') as csvfile:\n",
        "  ratings_reader = csv.DictReader(csvfile)\n",
        "  for row in ratings_reader:\n",
        "    if ((row['ratings'] != \"\") and (float(row['ratings']) > 0) and (float(row['ratings']) < 6)):\n",
        "      jgb_rating_dict.update({int(row['item']): float(row['ratings'])})\n",
        "     \n",
        "print(\"Rating dictionaries assembled!\")\n",
        "print(\"Sanity check:\")\n",
        "print(\"\\tParin's rating for 1197 (The Princess Bride) is \" + str(jabril_rating_dict[1197]))\n",
        "print(\"\\tHasmeet's rating for 1197 (The Princess Bride) is \" + str(jgb_rating_dict[1197]))\n"
      ],
      "execution_count": null,
      "outputs": [
        {
          "output_type": "stream",
          "text": [
            "Rating dictionaries assembled!\n",
            "Sanity check:\n",
            "\tParin's rating for 1197 (The Princess Bride) is 4.5\n",
            "\tHasmeet's rating for 1197 (The Princess Bride) is 3.5\n"
          ],
          "name": "stdout"
        }
      ]
    },
    {
      "cell_type": "markdown",
      "metadata": {
        "id": "ipyWOFAMADaa"
      },
      "source": [
        "***STEP 4***\n",
        "\n",
        "In Step 4, we want to actually train a new collaborative filtering model to provide recommendations. We'll use the UserUser library from LensKit to do this. This algorithm clusters similar users based on their movie ratings, and uses those clusters to predict movie ratings for one user (in this case, we'll want that user to be Parin or Hasmeet).\n",
        "\n",
        "\n",
        "\n",
        "\n",
        "\n",
        "\n",
        "**Step 4.1**"
      ]
    },
    {
      "cell_type": "code",
      "metadata": {
        "id": "tCpGlQwpKTp5",
        "colab": {
          "base_uri": "https://localhost:8080/",
          "height": 34
        },
        "outputId": "aeb92d7d-4178-45da-f9db-a213fd6da0a8"
      },
      "source": [
        "from lenskit.algorithms import Recommender\n",
        "from lenskit.algorithms.user_knn import UserUser\n",
        "\n",
        "num_recs = 10  #<---- This is the number of recommendations to generate. You can change this if you want to see more recommendations\n",
        "\n",
        "user_user = UserUser(15, min_nbrs=3) #These two numbers set the minimum (3) and maximum (15) number of neighbors to consider. These are considered \"reasonable defaults,\" but you can experiment with others too\n",
        "algo = Recommender.adapt(user_user)\n",
        "algo.fit(data.ratings)\n",
        "\n",
        "print(\"Set up a User-User algorithm!\")"
      ],
      "execution_count": null,
      "outputs": [
        {
          "output_type": "stream",
          "text": [
            "Set up a User-User algorithm!\n"
          ],
          "name": "stdout"
        }
      ]
    },
    {
      "cell_type": "markdown",
      "metadata": {
        "id": "JLQt0bs4DE8k"
      },
      "source": [
        "Now that the system has defined clusters, we can give it our personal ratings to get the top 10 recommended movies for Hasmeet and for Parin.\n",
        "\n",
        "For each of us, the User-User algorithm will find a neighborhood of users similar to us based on their movie ratings.\n",
        "\n",
        "**Step 4.2**"
      ]
    },
    {
      "cell_type": "code",
      "metadata": {
        "id": "MhJjyTcZmYdC",
        "colab": {
          "base_uri": "https://localhost:8080/",
          "height": 410
        },
        "outputId": "7f9f99f7-075e-45da-fe06-cc703dd5340e"
      },
      "source": [
        "jabril_recs = algo.recommend(-1, num_recs, ratings=pd.Series(jabril_rating_dict))  #Here, -1 tells it that it's not an existing user in the set, that we're giving new ratings, while 10 is how many recommendations it should generate\n",
        "\n",
        "joined_data = jabril_recs.join(data.movies['genres'], on='item')      \n",
        "joined_data = joined_data.join(data.movies['title'], on='item')\n",
        "joined_data = joined_data[joined_data.columns[2:]]\n",
        "print(\"\\n\\nRECOMMENDED FOR PARIN:\")\n",
        "joined_data"
      ],
      "execution_count": null,
      "outputs": [
        {
          "output_type": "stream",
          "text": [
            "\n",
            "\n",
            "RECOMMENDED FOR PARIN:\n"
          ],
          "name": "stdout"
        },
        {
          "output_type": "execute_result",
          "data": {
            "text/html": [
              "<div>\n",
              "<style scoped>\n",
              "    .dataframe tbody tr th:only-of-type {\n",
              "        vertical-align: middle;\n",
              "    }\n",
              "\n",
              "    .dataframe tbody tr th {\n",
              "        vertical-align: top;\n",
              "    }\n",
              "\n",
              "    .dataframe thead th {\n",
              "        text-align: right;\n",
              "    }\n",
              "</style>\n",
              "<table border=\"1\" class=\"dataframe\">\n",
              "  <thead>\n",
              "    <tr style=\"text-align: right;\">\n",
              "      <th></th>\n",
              "      <th>genres</th>\n",
              "      <th>title</th>\n",
              "    </tr>\n",
              "  </thead>\n",
              "  <tbody>\n",
              "    <tr>\n",
              "      <th>0</th>\n",
              "      <td>Comedy|Drama</td>\n",
              "      <td>Last Detail, The (1973)</td>\n",
              "    </tr>\n",
              "    <tr>\n",
              "      <th>1</th>\n",
              "      <td>Comedy</td>\n",
              "      <td>Love and Death (1975)</td>\n",
              "    </tr>\n",
              "    <tr>\n",
              "      <th>2</th>\n",
              "      <td>Drama</td>\n",
              "      <td>Before Night Falls (2000)</td>\n",
              "    </tr>\n",
              "    <tr>\n",
              "      <th>3</th>\n",
              "      <td>Drama</td>\n",
              "      <td>Magdalene Sisters, The (2002)</td>\n",
              "    </tr>\n",
              "    <tr>\n",
              "      <th>4</th>\n",
              "      <td>Drama|Horror|Mystery|Sci-Fi|Thriller</td>\n",
              "      <td>Black Mirror: White Christmas (2014)</td>\n",
              "    </tr>\n",
              "    <tr>\n",
              "      <th>5</th>\n",
              "      <td>Action|Animation|Drama|Fantasy|Sci-Fi</td>\n",
              "      <td>Neon Genesis Evangelion: The End of Evangelion...</td>\n",
              "    </tr>\n",
              "    <tr>\n",
              "      <th>6</th>\n",
              "      <td>Action|Adventure|Thriller</td>\n",
              "      <td>Raiders of the Lost Ark: The Adaptation (1989)</td>\n",
              "    </tr>\n",
              "    <tr>\n",
              "      <th>7</th>\n",
              "      <td>Comedy|Drama|Romance</td>\n",
              "      <td>Submarine (2010)</td>\n",
              "    </tr>\n",
              "    <tr>\n",
              "      <th>8</th>\n",
              "      <td>Adventure|Drama</td>\n",
              "      <td>Nebraska (2013)</td>\n",
              "    </tr>\n",
              "    <tr>\n",
              "      <th>9</th>\n",
              "      <td>Documentary</td>\n",
              "      <td>Endless Summer, The (1966)</td>\n",
              "    </tr>\n",
              "  </tbody>\n",
              "</table>\n",
              "</div>"
            ],
            "text/plain": [
              "                                  genres                                              title\n",
              "0                           Comedy|Drama                            Last Detail, The (1973)\n",
              "1                                 Comedy                              Love and Death (1975)\n",
              "2                                  Drama                          Before Night Falls (2000)\n",
              "3                                  Drama                      Magdalene Sisters, The (2002)\n",
              "4   Drama|Horror|Mystery|Sci-Fi|Thriller               Black Mirror: White Christmas (2014)\n",
              "5  Action|Animation|Drama|Fantasy|Sci-Fi  Neon Genesis Evangelion: The End of Evangelion...\n",
              "6              Action|Adventure|Thriller     Raiders of the Lost Ark: The Adaptation (1989)\n",
              "7                   Comedy|Drama|Romance                                   Submarine (2010)\n",
              "8                        Adventure|Drama                                    Nebraska (2013)\n",
              "9                            Documentary                         Endless Summer, The (1966)"
            ]
          },
          "metadata": {
            "tags": []
          },
          "execution_count": 12
        }
      ]
    },
    {
      "cell_type": "code",
      "metadata": {
        "id": "z2TIloetmeuB",
        "colab": {
          "base_uri": "https://localhost:8080/",
          "height": 376
        },
        "outputId": "35497cd9-6a07-48ca-9548-0d7721685edc"
      },
      "source": [
        "jgb_recs = algo.recommend(-1, num_recs, ratings=pd.Series(jgb_rating_dict))  #Here, -1 tells it that it's not an existing user in the set, that we're giving new ratings, while 10 is how many recommendations it should generate\n",
        "\n",
        "joined_data = jgb_recs.join(data.movies['genres'], on='item')      \n",
        "joined_data = joined_data.join(data.movies['title'], on='item')\n",
        "joined_data = joined_data[joined_data.columns[2:]]\n",
        "print(\"RECOMMENDED FOR HASMEET:\")\n",
        "joined_data"
      ],
      "execution_count": null,
      "outputs": [
        {
          "output_type": "stream",
          "text": [
            "RECOMMENDED FOR HASMEET:\n"
          ],
          "name": "stdout"
        },
        {
          "output_type": "execute_result",
          "data": {
            "text/html": [
              "<div>\n",
              "<style scoped>\n",
              "    .dataframe tbody tr th:only-of-type {\n",
              "        vertical-align: middle;\n",
              "    }\n",
              "\n",
              "    .dataframe tbody tr th {\n",
              "        vertical-align: top;\n",
              "    }\n",
              "\n",
              "    .dataframe thead th {\n",
              "        text-align: right;\n",
              "    }\n",
              "</style>\n",
              "<table border=\"1\" class=\"dataframe\">\n",
              "  <thead>\n",
              "    <tr style=\"text-align: right;\">\n",
              "      <th></th>\n",
              "      <th>genres</th>\n",
              "      <th>title</th>\n",
              "    </tr>\n",
              "  </thead>\n",
              "  <tbody>\n",
              "    <tr>\n",
              "      <th>0</th>\n",
              "      <td>Comedy</td>\n",
              "      <td>The Night Before (2015)</td>\n",
              "    </tr>\n",
              "    <tr>\n",
              "      <th>1</th>\n",
              "      <td>Adventure|Drama|Sci-Fi</td>\n",
              "      <td>Day of the Doctor, The (2013)</td>\n",
              "    </tr>\n",
              "    <tr>\n",
              "      <th>2</th>\n",
              "      <td>Drama|Fantasy|Romance</td>\n",
              "      <td>Wristcutters: A Love Story (2006)</td>\n",
              "    </tr>\n",
              "    <tr>\n",
              "      <th>3</th>\n",
              "      <td>Comedy|Musical</td>\n",
              "      <td>Holiday Inn (1942)</td>\n",
              "    </tr>\n",
              "    <tr>\n",
              "      <th>4</th>\n",
              "      <td>Comedy</td>\n",
              "      <td>Outside Providence (1999)</td>\n",
              "    </tr>\n",
              "    <tr>\n",
              "      <th>5</th>\n",
              "      <td>Comedy|Romance</td>\n",
              "      <td>Adam's Rib (1949)</td>\n",
              "    </tr>\n",
              "    <tr>\n",
              "      <th>6</th>\n",
              "      <td>Drama</td>\n",
              "      <td>Reign Over Me (2007)</td>\n",
              "    </tr>\n",
              "    <tr>\n",
              "      <th>7</th>\n",
              "      <td>Drama</td>\n",
              "      <td>Guess Who's Coming to Dinner (1967)</td>\n",
              "    </tr>\n",
              "    <tr>\n",
              "      <th>8</th>\n",
              "      <td>Drama</td>\n",
              "      <td>Half Nelson (2006)</td>\n",
              "    </tr>\n",
              "    <tr>\n",
              "      <th>9</th>\n",
              "      <td>Comedy</td>\n",
              "      <td>Fired Up (2009)</td>\n",
              "    </tr>\n",
              "  </tbody>\n",
              "</table>\n",
              "</div>"
            ],
            "text/plain": [
              "                   genres                                title\n",
              "0                  Comedy              The Night Before (2015)\n",
              "1  Adventure|Drama|Sci-Fi        Day of the Doctor, The (2013)\n",
              "2   Drama|Fantasy|Romance    Wristcutters: A Love Story (2006)\n",
              "3          Comedy|Musical                   Holiday Inn (1942)\n",
              "4                  Comedy            Outside Providence (1999)\n",
              "5          Comedy|Romance                    Adam's Rib (1949)\n",
              "6                   Drama                 Reign Over Me (2007)\n",
              "7                   Drama  Guess Who's Coming to Dinner (1967)\n",
              "8                   Drama                   Half Nelson (2006)\n",
              "9                  Comedy                      Fired Up (2009)"
            ]
          },
          "metadata": {
            "tags": []
          },
          "execution_count": 13
        }
      ]
    },
    {
      "cell_type": "markdown",
      "metadata": {
        "id": "eHtgnyRpDfww"
      },
      "source": [
        "Now, we have \"top 10\" lists of movies for both! Each of these only has movies that each of us hasn't watched before (or at least that we didn't rate in our personal ratings). These lists include both popular movies and more obscure ones.\n",
        "But our lists don't overlap at all."
      ]
    },
    {
      "cell_type": "markdown",
      "metadata": {
        "id": "TR5t0Bd8F22h"
      },
      "source": [
        "***STEP 5***\n",
        "\n",
        "That brings us to Step 5, making a combined movie recommendation list. Because rating preferences are stored as numbers, we can create a hybrid!\n",
        "\n",
        "We'll also do a quick sanity check by looking at _The Princess Bride_ again. I rated it as a 4.5 (because it's awesome!!) and John-Green-bot rated it as a 3.5, so we'd expect our combined list would have it as a 4.\n",
        "\n",
        "**Step 5.1**"
      ]
    },
    {
      "cell_type": "code",
      "metadata": {
        "id": "pCDA3zTezLBn",
        "colab": {
          "base_uri": "https://localhost:8080/",
          "height": 68
        },
        "outputId": "889ffea0-eae4-482b-9895-14768baf1c62"
      },
      "source": [
        "combined_rating_dict = {}\n",
        "for k in jabril_rating_dict:\n",
        "  if k in jgb_rating_dict:\n",
        "    combined_rating_dict.update({k: float((jabril_rating_dict[k]+jgb_rating_dict[k])/2)})\n",
        "  else:\n",
        "    combined_rating_dict.update({k:jabril_rating_dict[k]})\n",
        "for k in jgb_rating_dict:\n",
        "   if k not in combined_rating_dict:\n",
        "      combined_rating_dict.update({k:jgb_rating_dict[k]})\n",
        "      \n",
        "print(\"Combined ratings dictionary assembled!\")\n",
        "print(\"Sanity check:\")\n",
        "print(\"\\tCombined rating for 1197 (The Princess Bride) is \" + str(combined_rating_dict[1197]))"
      ],
      "execution_count": null,
      "outputs": [
        {
          "output_type": "stream",
          "text": [
            "Combined ratings dictionary assembled!\n",
            "Sanity check:\n",
            "\tCombined rating for 1197 (The Princess Bride) is 4.0\n"
          ],
          "name": "stdout"
        }
      ]
    },
    {
      "cell_type": "markdown",
      "metadata": {
        "id": "E3boe1yumm0m"
      },
      "source": [
        "Looks like everything checks out. So now, we have a combined dictionary that we can plug right into our User-User model to output a ranked list of new movies that we should both enjoy!\n",
        "\n",
        "**Step 5.2**"
      ]
    },
    {
      "cell_type": "code",
      "metadata": {
        "id": "FHOwanSbmoc0",
        "colab": {
          "base_uri": "https://localhost:8080/",
          "height": 410
        },
        "outputId": "80880da6-619a-4742-b026-3958e7de8636"
      },
      "source": [
        "combined_recs = algo.recommend(-1, num_recs, ratings=pd.Series(combined_rating_dict))  #Here, -1 tells it that it's not an existing user in the set, that we're giving new ratings, while 10 is how many recommendations it should generate\n",
        "\n",
        "joined_data = combined_recs.join(data.movies['genres'], on='item')      \n",
        "joined_data = joined_data.join(data.movies['title'], on='item')\n",
        "joined_data = joined_data[joined_data.columns[2:]]\n",
        "print(\"\\n\\nRECOMMENDED FOR PARIN / HASMEET HYBRID:\")\n",
        "joined_data"
      ],
      "execution_count": null,
      "outputs": [
        {
          "output_type": "stream",
          "text": [
            "\n",
            "\n",
            "RECOMMENDED FOR PARIN / HASMEET HYBRID:\n"
          ],
          "name": "stdout"
        },
        {
          "output_type": "execute_result",
          "data": {
            "text/html": [
              "<div>\n",
              "<style scoped>\n",
              "    .dataframe tbody tr th:only-of-type {\n",
              "        vertical-align: middle;\n",
              "    }\n",
              "\n",
              "    .dataframe tbody tr th {\n",
              "        vertical-align: top;\n",
              "    }\n",
              "\n",
              "    .dataframe thead th {\n",
              "        text-align: right;\n",
              "    }\n",
              "</style>\n",
              "<table border=\"1\" class=\"dataframe\">\n",
              "  <thead>\n",
              "    <tr style=\"text-align: right;\">\n",
              "      <th></th>\n",
              "      <th>genres</th>\n",
              "      <th>title</th>\n",
              "    </tr>\n",
              "  </thead>\n",
              "  <tbody>\n",
              "    <tr>\n",
              "      <th>0</th>\n",
              "      <td>Comedy|Drama|Romance</td>\n",
              "      <td>Submarine (2010)</td>\n",
              "    </tr>\n",
              "    <tr>\n",
              "      <th>1</th>\n",
              "      <td>Drama|Romance</td>\n",
              "      <td>Call Me by Your Name (2017)</td>\n",
              "    </tr>\n",
              "    <tr>\n",
              "      <th>2</th>\n",
              "      <td>Drama|Sci-Fi</td>\n",
              "      <td>Man Who Fell to Earth, The (1976)</td>\n",
              "    </tr>\n",
              "    <tr>\n",
              "      <th>3</th>\n",
              "      <td>Comedy|Romance</td>\n",
              "      <td>Adam's Rib (1949)</td>\n",
              "    </tr>\n",
              "    <tr>\n",
              "      <th>4</th>\n",
              "      <td>Drama|War</td>\n",
              "      <td>Gallipoli (1981)</td>\n",
              "    </tr>\n",
              "    <tr>\n",
              "      <th>5</th>\n",
              "      <td>Drama</td>\n",
              "      <td>Before Night Falls (2000)</td>\n",
              "    </tr>\n",
              "    <tr>\n",
              "      <th>6</th>\n",
              "      <td>Adventure|Drama|Sci-Fi</td>\n",
              "      <td>Day of the Doctor, The (2013)</td>\n",
              "    </tr>\n",
              "    <tr>\n",
              "      <th>7</th>\n",
              "      <td>Action|Adventure|Thriller</td>\n",
              "      <td>Raiders of the Lost Ark: The Adaptation (1989)</td>\n",
              "    </tr>\n",
              "    <tr>\n",
              "      <th>8</th>\n",
              "      <td>Adventure|Drama|Western</td>\n",
              "      <td>True Grit (1969)</td>\n",
              "    </tr>\n",
              "    <tr>\n",
              "      <th>9</th>\n",
              "      <td>Comedy</td>\n",
              "      <td>Love and Death (1975)</td>\n",
              "    </tr>\n",
              "  </tbody>\n",
              "</table>\n",
              "</div>"
            ],
            "text/plain": [
              "                      genres                                           title\n",
              "0       Comedy|Drama|Romance                                Submarine (2010)\n",
              "1              Drama|Romance                     Call Me by Your Name (2017)\n",
              "2               Drama|Sci-Fi               Man Who Fell to Earth, The (1976)\n",
              "3             Comedy|Romance                               Adam's Rib (1949)\n",
              "4                  Drama|War                                Gallipoli (1981)\n",
              "5                      Drama                       Before Night Falls (2000)\n",
              "6     Adventure|Drama|Sci-Fi                   Day of the Doctor, The (2013)\n",
              "7  Action|Adventure|Thriller  Raiders of the Lost Ark: The Adaptation (1989)\n",
              "8    Adventure|Drama|Western                                True Grit (1969)\n",
              "9                     Comedy                           Love and Death (1975)"
            ]
          },
          "metadata": {
            "tags": []
          },
          "execution_count": 15
        }
      ]
    },
    {
      "cell_type": "markdown",
      "metadata": {
        "id": "sX2ztmXUHzah"
      },
      "source": [
        "The number one recommendation is _[Submarine](https://www.imdb.com/title/tt1440292/)_ which is a quirky movie from 2010. If this is too obscure, we could pick a different recommendation from this list like _[True Grit](https://www.imdb.com/title/tt1403865/)_.\n",
        "\n",
        "We could also go back to Step 4.1 and set different parameters.The trade-off between unconventional and popular results is what really characterizes recommender systems!"
      ]
    }
  ]
}